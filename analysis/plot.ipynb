{
 "cells": [
  {
   "cell_type": "code",
   "execution_count": null,
   "metadata": {},
   "outputs": [],
   "source": [
    "import datetime as dt\n",
    "import pandas as pd\n",
    "import numpy as np\n",
    "import os\n",
    "from bokeh.plotting import figure, output_file, show,output_notebook\n",
    "\n",
    "output_notebook()"
   ]
  },
  {
   "cell_type": "code",
   "execution_count": null,
   "metadata": {},
   "outputs": [],
   "source": [
    "output_file = os.path.expanduser(\"~/Desktop/android_data/20200530.csv\")"
   ]
  },
  {
   "cell_type": "code",
   "execution_count": null,
   "metadata": {},
   "outputs": [],
   "source": [
    "df = pd.read_csv(output_file, header=None)\n",
    "df.columns=[\"time\", \"ax\", \"ay\", \"az\"]\n",
    "df[\"a_abs\"]=np.sqrt(pow(df[\"ax\"],2) + pow(df['ay'].values, 2) + pow(df['az'].values, 2))\n",
    "df = df[df[\"a_abs\"] < 1e2]\n",
    "df"
   ]
  },
  {
   "cell_type": "code",
   "execution_count": null,
   "metadata": {},
   "outputs": [],
   "source": [
    "dateconv = np.vectorize(dt.datetime.fromtimestamp)\n",
    "date = dateconv(df[\"time\"]/1000)\n",
    "date"
   ]
  },
  {
   "cell_type": "code",
   "execution_count": null,
   "metadata": {},
   "outputs": [],
   "source": [
    "p = figure(title=\"Acceleration\", x_axis_label='time', y_axis_label='acceleration [m/s^2]',\n",
    "           x_axis_type='datetime', height=400, width=900)\n",
    "p.line(date, df[\"ax\"], legend_label=\"Ax\", color=\"red\", line_width=2)\n",
    "p.line(date, df[\"ay\"], legend_label=\"Ay\", color=\"green\", line_width=2)\n",
    "p.line(date, df[\"az\"], legend_label=\"Az\", color=\"blue\", line_width=2)\n",
    "p.line(date, df[\"a_abs\"], legend_label=\"|A|\", color=\"cyan\", line_width=2)\n",
    "\n",
    "p.legend.click_policy=\"hide\"\n",
    "show(p)"
   ]
  },
  {
   "cell_type": "code",
   "execution_count": null,
   "metadata": {},
   "outputs": [],
   "source": []
  },
  {
   "cell_type": "code",
   "execution_count": null,
   "metadata": {},
   "outputs": [],
   "source": []
  }
 ],
 "metadata": {
  "kernelspec": {
   "display_name": "Python 3",
   "language": "python",
   "name": "python3"
  },
  "language_info": {
   "codemirror_mode": {
    "name": "ipython",
    "version": 3
   },
   "file_extension": ".py",
   "mimetype": "text/x-python",
   "name": "python",
   "nbconvert_exporter": "python",
   "pygments_lexer": "ipython3",
   "version": "3.7.0"
  }
 },
 "nbformat": 4,
 "nbformat_minor": 4
}
